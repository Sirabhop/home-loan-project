{
 "cells": [
  {
   "cell_type": "markdown",
   "metadata": {},
   "source": [
    "# **Model Prediction Pipeline**\n",
    "\n",
    "**Objective:** To streamline the process of making predictions and evaluating results using a pre-trained machine learning model.\n",
    "\n",
    "**Steps:**\n",
    "\n",
    "1. Download Model: \n",
    "    * Load the trained model from a pickle file (generated in the previous model training pipeline).\n",
    "2. Import New Data: \n",
    "    * Utilize the `dataPipeline` instance to efficiently import and preprocess the new data for prediction.\n",
    "3. Make Predictions: \n",
    "    * Generate predictions on the preprocessed data.\n",
    "4. Evaluate Results: \n",
    "    * Assess the performance of the model by using AUC."
   ]
  },
  {
   "cell_type": "code",
   "execution_count": 1,
   "metadata": {},
   "outputs": [],
   "source": [
    "from src.preprocessing import dataPipeline\n",
    "from src.predictionPipeline import predictionPipeline"
   ]
  },
  {
   "cell_type": "markdown",
   "metadata": {},
   "source": [
    "# 1. Download model"
   ]
  },
  {
   "cell_type": "code",
   "execution_count": 2,
   "metadata": {},
   "outputs": [
    {
     "name": "stdout",
     "output_type": "stream",
     "text": [
      "Successfully downlond the model from model\\XGBClassifier_20241002_082449.pkl\n"
     ]
    }
   ],
   "source": [
    "model_prediction_pipeline = predictionPipeline()"
   ]
  },
  {
   "cell_type": "markdown",
   "metadata": {},
   "source": [
    "# 2. Import data through data pipeline"
   ]
  },
  {
   "cell_type": "code",
   "execution_count": 3,
   "metadata": {},
   "outputs": [],
   "source": [
    "prediction_data_pipeline = dataPipeline('prediction')"
   ]
  },
  {
   "cell_type": "code",
   "execution_count": 4,
   "metadata": {},
   "outputs": [
    {
     "name": "stderr",
     "output_type": "stream",
     "text": [
      "Encoding categorical variables: 100%|██████████| 22/22 [00:01<00:00, 16.66it/s]\n"
     ]
    }
   ],
   "source": [
    "df_to_predict = prediction_data_pipeline.preProcessing()"
   ]
  },
  {
   "cell_type": "markdown",
   "metadata": {},
   "source": [
    "# 3. Prediction"
   ]
  },
  {
   "cell_type": "code",
   "execution_count": 5,
   "metadata": {},
   "outputs": [
    {
     "name": "stdout",
     "output_type": "stream",
     "text": [
      "Predictions generated successfully.\n"
     ]
    }
   ],
   "source": [
    "model_prediction_pipeline.predict(df_to_predict)"
   ]
  },
  {
   "cell_type": "markdown",
   "metadata": {},
   "source": [
    "# 4. Model result"
   ]
  },
  {
   "cell_type": "code",
   "execution_count": null,
   "metadata": {},
   "outputs": [],
   "source": [
    "# Go to predictions folder, you should found the Excel file exported there."
   ]
  }
 ],
 "metadata": {
  "kernelspec": {
   "display_name": "home-loan-project",
   "language": "python",
   "name": "python3"
  },
  "language_info": {
   "codemirror_mode": {
    "name": "ipython",
    "version": 3
   },
   "file_extension": ".py",
   "mimetype": "text/x-python",
   "name": "python",
   "nbconvert_exporter": "python",
   "pygments_lexer": "ipython3",
   "version": "3.12.5"
  }
 },
 "nbformat": 4,
 "nbformat_minor": 2
}
