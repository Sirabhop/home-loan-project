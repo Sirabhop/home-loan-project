{
 "cells": [
  {
   "cell_type": "markdown",
   "metadata": {},
   "source": [
    "# **Model Prediction Pipeline**\n",
    "\n",
    "**Objective:** To streamline the process of making predictions and evaluating results using a pre-trained machine learning model.\n",
    "\n",
    "**Steps:**\n",
    "\n",
    "1. Download Model: \n",
    "    * Load the trained model from a pickle file (generated in the previous model training pipeline).\n",
    "2. Import New Data: \n",
    "    * Utilize the `dataPipeline` instance to efficiently import and preprocess the new data for prediction.\n",
    "3. Make Predictions: \n",
    "    * Generate predictions on the preprocessed data.\n",
    "4. Evaluate Results: \n",
    "    * Assess the performance of the model by using AUC."
   ]
  },
  {
   "cell_type": "code",
   "execution_count": 10,
   "metadata": {},
   "outputs": [],
   "source": [
    "from src.preprocessing import dataPipeline\n",
    "from src.predictionPipeline import predictionPipeline\n",
    "\n",
    "import pandas as pd"
   ]
  },
  {
   "cell_type": "markdown",
   "metadata": {},
   "source": [
    "# 1. Download model"
   ]
  },
  {
   "cell_type": "code",
   "execution_count": 4,
   "metadata": {},
   "outputs": [
    {
     "name": "stdout",
     "output_type": "stream",
     "text": [
      "Successfully downlond the model from model\\XGBClassifier_20241002_082449.pkl\n"
     ]
    }
   ],
   "source": [
    "model_prediction_pipeline = predictionPipeline()"
   ]
  },
  {
   "cell_type": "markdown",
   "metadata": {},
   "source": [
    "# 2. Import data through data pipeline"
   ]
  },
  {
   "cell_type": "code",
   "execution_count": 5,
   "metadata": {},
   "outputs": [],
   "source": [
    "prediction_data_pipeline = dataPipeline('prediction')"
   ]
  },
  {
   "cell_type": "code",
   "execution_count": 6,
   "metadata": {},
   "outputs": [
    {
     "name": "stderr",
     "output_type": "stream",
     "text": [
      "Encoding categorical variables: 100%|██████████| 22/22 [00:02<00:00, 10.87it/s]\n"
     ]
    }
   ],
   "source": [
    "df_to_predict = prediction_data_pipeline.preProcessing()"
   ]
  },
  {
   "cell_type": "markdown",
   "metadata": {},
   "source": [
    "# 3. Prediction"
   ]
  },
  {
   "cell_type": "code",
   "execution_count": 7,
   "metadata": {},
   "outputs": [
    {
     "name": "stdout",
     "output_type": "stream",
     "text": [
      "Predictions generated successfully.\n"
     ]
    }
   ],
   "source": [
    "y_pred = model_prediction_pipeline.predict(df_to_predict)"
   ]
  },
  {
   "cell_type": "code",
   "execution_count": 11,
   "metadata": {},
   "outputs": [],
   "source": [
    "df_out = df_to_predict[['SK_ID_CURR']].copy()\n",
    "df_out['TARGET'] = y_pred\n",
    "df_out['TARGET'] = df_out['TARGET'].apply(lambda x: 1 if x >= 0.5 else 0)"
   ]
  },
  {
   "cell_type": "code",
   "execution_count": 12,
   "metadata": {},
   "outputs": [],
   "source": [
    "df_out.to_csv('out/y_pred.csv',index=False)"
   ]
  },
  {
   "cell_type": "code",
   "execution_count": null,
   "metadata": {},
   "outputs": [],
   "source": [
    "# AUC: 0.5 after submit to Kaggle Leaderboard\n",
    "\n",
    "# Model doesn't predict better than a random sampling :("
   ]
  },
  {
   "cell_type": "markdown",
   "metadata": {},
   "source": [
    "# 4. Model result"
   ]
  },
  {
   "cell_type": "code",
   "execution_count": null,
   "metadata": {},
   "outputs": [],
   "source": [
    "model_prediction_pipeline._export_predictions()\n",
    "\n",
    "# Go to predictions folder, you should found the Excel file exported there."
   ]
  }
 ],
 "metadata": {
  "kernelspec": {
   "display_name": "home-loan-project",
   "language": "python",
   "name": "python3"
  },
  "language_info": {
   "codemirror_mode": {
    "name": "ipython",
    "version": 3
   },
   "file_extension": ".py",
   "mimetype": "text/x-python",
   "name": "python",
   "nbconvert_exporter": "python",
   "pygments_lexer": "ipython3",
   "version": "3.12.5"
  }
 },
 "nbformat": 4,
 "nbformat_minor": 2
}
